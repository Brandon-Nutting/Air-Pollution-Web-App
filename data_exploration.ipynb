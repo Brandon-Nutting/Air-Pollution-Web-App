{
 "cells": [
  {
   "cell_type": "code",
   "execution_count": 1,
   "metadata": {},
   "outputs": [],
   "source": [
    "# Import statements\n",
    "import pandas as pd"
   ]
  },
  {
   "cell_type": "code",
   "execution_count": 4,
   "metadata": {},
   "outputs": [],
   "source": [
    "# Read in data for further analysis\n",
    "pollution_df = pd.read_csv(\"Input/Air_Quality.csv\")"
   ]
  },
  {
   "cell_type": "code",
   "execution_count": 5,
   "metadata": {},
   "outputs": [
    {
     "data": {
      "text/html": [
       "<div>\n",
       "<style scoped>\n",
       "    .dataframe tbody tr th:only-of-type {\n",
       "        vertical-align: middle;\n",
       "    }\n",
       "\n",
       "    .dataframe tbody tr th {\n",
       "        vertical-align: top;\n",
       "    }\n",
       "\n",
       "    .dataframe thead th {\n",
       "        text-align: right;\n",
       "    }\n",
       "</style>\n",
       "<table border=\"1\" class=\"dataframe\">\n",
       "  <thead>\n",
       "    <tr style=\"text-align: right;\">\n",
       "      <th></th>\n",
       "      <th>Unique ID</th>\n",
       "      <th>Indicator ID</th>\n",
       "      <th>Name</th>\n",
       "      <th>Measure</th>\n",
       "      <th>Measure Info</th>\n",
       "      <th>Geo Type Name</th>\n",
       "      <th>Geo Join ID</th>\n",
       "      <th>Geo Place Name</th>\n",
       "      <th>Time Period</th>\n",
       "      <th>Start_Date</th>\n",
       "      <th>Data Value</th>\n",
       "      <th>Message</th>\n",
       "    </tr>\n",
       "  </thead>\n",
       "  <tbody>\n",
       "    <tr>\n",
       "      <th>0</th>\n",
       "      <td>172653</td>\n",
       "      <td>375</td>\n",
       "      <td>Nitrogen dioxide (NO2)</td>\n",
       "      <td>Mean</td>\n",
       "      <td>ppb</td>\n",
       "      <td>UHF34</td>\n",
       "      <td>203</td>\n",
       "      <td>Bedford Stuyvesant - Crown Heights</td>\n",
       "      <td>Annual Average 2011</td>\n",
       "      <td>12/01/2010</td>\n",
       "      <td>25.30</td>\n",
       "      <td>NaN</td>\n",
       "    </tr>\n",
       "    <tr>\n",
       "      <th>1</th>\n",
       "      <td>172585</td>\n",
       "      <td>375</td>\n",
       "      <td>Nitrogen dioxide (NO2)</td>\n",
       "      <td>Mean</td>\n",
       "      <td>ppb</td>\n",
       "      <td>UHF34</td>\n",
       "      <td>203</td>\n",
       "      <td>Bedford Stuyvesant - Crown Heights</td>\n",
       "      <td>Annual Average 2009</td>\n",
       "      <td>12/01/2008</td>\n",
       "      <td>26.93</td>\n",
       "      <td>NaN</td>\n",
       "    </tr>\n",
       "    <tr>\n",
       "      <th>2</th>\n",
       "      <td>336637</td>\n",
       "      <td>375</td>\n",
       "      <td>Nitrogen dioxide (NO2)</td>\n",
       "      <td>Mean</td>\n",
       "      <td>ppb</td>\n",
       "      <td>UHF34</td>\n",
       "      <td>204</td>\n",
       "      <td>East New York</td>\n",
       "      <td>Annual Average 2015</td>\n",
       "      <td>01/01/2015</td>\n",
       "      <td>19.09</td>\n",
       "      <td>NaN</td>\n",
       "    </tr>\n",
       "    <tr>\n",
       "      <th>3</th>\n",
       "      <td>336622</td>\n",
       "      <td>375</td>\n",
       "      <td>Nitrogen dioxide (NO2)</td>\n",
       "      <td>Mean</td>\n",
       "      <td>ppb</td>\n",
       "      <td>UHF34</td>\n",
       "      <td>103</td>\n",
       "      <td>Fordham - Bronx Pk</td>\n",
       "      <td>Annual Average 2015</td>\n",
       "      <td>01/01/2015</td>\n",
       "      <td>19.76</td>\n",
       "      <td>NaN</td>\n",
       "    </tr>\n",
       "    <tr>\n",
       "      <th>4</th>\n",
       "      <td>172582</td>\n",
       "      <td>375</td>\n",
       "      <td>Nitrogen dioxide (NO2)</td>\n",
       "      <td>Mean</td>\n",
       "      <td>ppb</td>\n",
       "      <td>UHF34</td>\n",
       "      <td>104</td>\n",
       "      <td>Pelham - Throgs Neck</td>\n",
       "      <td>Annual Average 2009</td>\n",
       "      <td>12/01/2008</td>\n",
       "      <td>22.83</td>\n",
       "      <td>NaN</td>\n",
       "    </tr>\n",
       "  </tbody>\n",
       "</table>\n",
       "</div>"
      ],
      "text/plain": [
       "   Unique ID  Indicator ID                    Name Measure Measure Info  \\\n",
       "0     172653           375  Nitrogen dioxide (NO2)    Mean          ppb   \n",
       "1     172585           375  Nitrogen dioxide (NO2)    Mean          ppb   \n",
       "2     336637           375  Nitrogen dioxide (NO2)    Mean          ppb   \n",
       "3     336622           375  Nitrogen dioxide (NO2)    Mean          ppb   \n",
       "4     172582           375  Nitrogen dioxide (NO2)    Mean          ppb   \n",
       "\n",
       "  Geo Type Name  Geo Join ID                      Geo Place Name  \\\n",
       "0         UHF34          203  Bedford Stuyvesant - Crown Heights   \n",
       "1         UHF34          203  Bedford Stuyvesant - Crown Heights   \n",
       "2         UHF34          204                       East New York   \n",
       "3         UHF34          103                  Fordham - Bronx Pk   \n",
       "4         UHF34          104                Pelham - Throgs Neck   \n",
       "\n",
       "           Time Period  Start_Date  Data Value  Message  \n",
       "0  Annual Average 2011  12/01/2010       25.30      NaN  \n",
       "1  Annual Average 2009  12/01/2008       26.93      NaN  \n",
       "2  Annual Average 2015  01/01/2015       19.09      NaN  \n",
       "3  Annual Average 2015  01/01/2015       19.76      NaN  \n",
       "4  Annual Average 2009  12/01/2008       22.83      NaN  "
      ]
     },
     "execution_count": 5,
     "metadata": {},
     "output_type": "execute_result"
    }
   ],
   "source": [
    "pollution_df.head(5)"
   ]
  },
  {
   "cell_type": "code",
   "execution_count": 7,
   "metadata": {},
   "outputs": [
    {
     "data": {
      "text/plain": [
       "Unique ID             0\n",
       "Indicator ID          0\n",
       "Name                  0\n",
       "Measure               0\n",
       "Measure Info          0\n",
       "Geo Type Name         0\n",
       "Geo Join ID           0\n",
       "Geo Place Name        0\n",
       "Time Period           0\n",
       "Start_Date            0\n",
       "Data Value            0\n",
       "Message           16218\n",
       "dtype: int64"
      ]
     },
     "execution_count": 7,
     "metadata": {},
     "output_type": "execute_result"
    }
   ],
   "source": [
    "# How many missing values?\n",
    "pollution_df.isna().sum()"
   ]
  },
  {
   "cell_type": "code",
   "execution_count": null,
   "metadata": {},
   "outputs": [],
   "source": [
    " "
   ]
  }
 ],
 "metadata": {
  "kernelspec": {
   "display_name": ".venv",
   "language": "python",
   "name": "python3"
  },
  "language_info": {
   "codemirror_mode": {
    "name": "ipython",
    "version": 3
   },
   "file_extension": ".py",
   "mimetype": "text/x-python",
   "name": "python",
   "nbconvert_exporter": "python",
   "pygments_lexer": "ipython3",
   "version": "3.11.9"
  }
 },
 "nbformat": 4,
 "nbformat_minor": 2
}
